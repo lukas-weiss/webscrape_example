{
  "nbformat": 4,
  "nbformat_minor": 0,
  "metadata": {
    "colab": {
      "name": "bs_webscrape_example.ipynb",
      "provenance": [],
      "toc_visible": true,
      "authorship_tag": "ABX9TyNJo8AFLqdRq325CbGn7AOb",
      "include_colab_link": true
    },
    "kernelspec": {
      "name": "python3",
      "display_name": "Python 3"
    },
    "language_info": {
      "name": "python"
    }
  },
  "cells": [
    {
      "cell_type": "markdown",
      "metadata": {
        "id": "view-in-github",
        "colab_type": "text"
      },
      "source": [
        "<a href=\"https://colab.research.google.com/github/lukas-weiss/webscrape_example/blob/main/bs_webscrape_example.ipynb\" target=\"_parent\"><img src=\"https://colab.research.google.com/assets/colab-badge.svg\" alt=\"Open In Colab\"/></a>"
      ]
    },
    {
      "cell_type": "code",
      "metadata": {
        "colab": {
          "base_uri": "https://localhost:8080/"
        },
        "id": "M0K6jgR9-NKz",
        "outputId": "4299b31d-77e8-41be-f889-6304df070dfb"
      },
      "source": [
        "import pandas as pd\n",
        "from bs4 import BeautifulSoup as soup\n",
        "from urllib.request import urlopen as uReq\n",
        "\n",
        "def get_raw_html_content(url):\n",
        "  client = uReq(url)\n",
        "  raw_content = client.read()\n",
        "  client.close()\n",
        "  return raw_content\n",
        "\n",
        "# get html content\n",
        "html_content = get_raw_html_content('https://www.classcentral.com/subject/data-science')\n",
        "\n",
        "# load html content in bs4\n",
        "page_soup = soup(html_content, 'html.parser')\n",
        "\n",
        "# ratings should be always floats (star rating)\n",
        "def rating_value(rating):\n",
        "  try:\n",
        "    return float(rating)\n",
        "  except ValueError:\n",
        "    return -1\n",
        "\n",
        "def get_text_from_elements(elements):\n",
        "  results = []\n",
        "  for element in elements:\n",
        "    # strip the whitespaces\n",
        "    results.append(element.text.strip())\n",
        "  return results\n",
        "    \n",
        "\n",
        "# load courses\n",
        "course_elements = page_soup.findAll(\"span\",{'class' : 'text-1 weight-semi line-tight'})\n",
        "courses = get_text_from_elements(course_elements)\n",
        "\n",
        "\n",
        "# load provider\n",
        "provider_elements = page_soup.findAll('a',href=True, attrs={'class':'color-charcoal italic'})\n",
        "providers = get_text_from_elements(provider_elements)\n",
        "\n",
        "\n",
        "# load ratings\n",
        "ratings = []\n",
        "rating_elements = page_soup.findAll('div', attrs={'class':'col border-box text-center nowrap row large-up-text-right padding-horz-small push'})\n",
        "for rating in rating_elements:\n",
        "  value = rating.find('span', attrs={'class':'xlarge-up-hidden color-charcoal text-center'})\n",
        "  ratings.append(rating_value(value.text.strip()))\n",
        "\n",
        "\n",
        "# export data with pandas\n",
        "df = pd.DataFrame({'course':courses,'ratings':ratings,'provider':providers})\n",
        "print(df)\n",
        "df.to_csv('classcentral_ds_courses.csv')"
      ],
      "execution_count": null,
      "outputs": [
        {
          "output_type": "stream",
          "text": [
            "                                               course  ratings     provider\n",
            "0                                       R Programming      2.8     Coursera\n",
            "1                        The Data Scientist’s Toolbox      3.3     Coursera\n",
            "2                        Computational Social Science      4.8     Coursera\n",
            "3                           Getting and Cleaning Data      3.5     Coursera\n",
            "4                                  The Analytics Edge      4.7          edX\n",
            "5                           Exploratory Data Analysis      3.9     Coursera\n",
            "6                               Become a Data Analyst      4.5      Udacity\n",
            "7                            Introduction to Big Data      2.7     Coursera\n",
            "8              Introduction to Data Science in Python      2.4     Coursera\n",
            "9                             Python for Data Science      4.4          edX\n",
            "10                   Mastering Data Analysis in Excel      1.8     Coursera\n",
            "11                     A Crash Course in Data Science      3.5     Coursera\n",
            "12          Hadoop Platform and Application Framework      1.9     Coursera\n",
            "13  Probability - The Science of Uncertainty and Data      4.9          edX\n",
            "14                            Mining Massive Datasets      4.6          edX\n",
            "15  Introduction to Computational Thinking and Dat...      4.5          edX\n",
            "16            Digital Marketing Analytics in Practice      4.2     Coursera\n",
            "17                              Statistical Inference      2.8     Coursera\n",
            "18                                   Statistics and R      3.5          edX\n",
            "19                                  Regression Models      2.5     Coursera\n",
            "20  Spatial Data Science: The New Frontier in Anal...      5.0  Independent\n",
            "21                       Building a Data Science Team      3.6     Coursera\n",
            "22                              Reproducible Research      3.9     Coursera\n",
            "23                  Making Sense of Data in the Media      4.7  FutureLearn\n",
            "24                          Data Science in Real Life      3.2     Coursera\n",
            "25      Introducción a la Ciencia de Datos con Python      4.8          edX\n",
            "26                         Fundamentals of Statistics      4.4          edX\n",
            "27                             Data Science: R Basics      4.6          edX\n",
            "28  Probability and Statistics in Data Science usi...      1.8          edX\n",
            "29                             Managing Data Analysis      2.7     Coursera\n",
            "30             Process Mining: Data science in Action      4.4     Coursera\n",
            "31  Data Visualization and Communication with Tableau      3.8     Coursera\n",
            "32                          Text Mining and Analytics      3.7     Coursera\n",
            "33  Introduction to Systematic Review and Meta-Ana...      5.0     Coursera\n",
            "34                      The R Programming Environment      2.8     Coursera\n",
            "35          Applied Social Network Analysis in Python      4.3     Coursera\n",
            "36  Data Science and Agile Systems for Product Man...      4.7          edX\n",
            "37                           Developing Data Products      3.9     Coursera\n",
            "38                     Data Science: Machine Learning      3.8          edX\n",
            "39  Statistical Thinking for Data Science and Anal...      2.2          edX\n",
            "40                    Cluster Analysis in Data Mining      2.6     Coursera\n",
            "41                   Pattern Discovery in Data Mining      2.1     Coursera\n",
            "42                Data Analysis for Social Scientists      3.2          edX\n",
            "43  Causal Diagrams: Draw Your Assumptions Before ...      5.0          edX\n",
            "44                        Data Science: Visualization      4.7          edX\n",
            "45                     High-Dimensional Data Analysis      3.7          edX\n",
            "46                    Data Science: Linear Regression      2.3          edX\n",
            "47                                Building R Packages      3.0     Coursera\n",
            "48                                 Data Visualization      3.3     Coursera\n",
            "49                            Data Science: Wrangling      4.5          edX\n"
          ],
          "name": "stdout"
        }
      ]
    }
  ]
}